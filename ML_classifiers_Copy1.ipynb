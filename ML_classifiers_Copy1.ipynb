{
  "nbformat": 4,
  "nbformat_minor": 0,
  "metadata": {
    "kernelspec": {
      "display_name": "Python 3",
      "language": "python",
      "name": "python3"
    },
    "language_info": {
      "codemirror_mode": {
        "name": "ipython",
        "version": 3
      },
      "file_extension": ".py",
      "mimetype": "text/x-python",
      "name": "python",
      "nbconvert_exporter": "python",
      "pygments_lexer": "ipython3",
      "version": "3.7.6"
    },
    "colab": {
      "name": "Lec1_ml_classifiers-Copy1.ipynb",
      "provenance": [],
      "collapsed_sections": [],
      "include_colab_link": true
    }
  },
  "cells": [
    {
      "cell_type": "markdown",
      "metadata": {
        "id": "view-in-github",
        "colab_type": "text"
      },
      "source": [
        "<a href=\"https://colab.research.google.com/github/attiqrafiq/Py_AIP/blob/master/ML_classifiers_Copy1.ipynb\" target=\"_parent\"><img src=\"https://colab.research.google.com/assets/colab-badge.svg\" alt=\"Open In Colab\"/></a>"
      ]
    },
    {
      "cell_type": "code",
      "metadata": {
        "id": "Fj9FKGiE3-r0",
        "colab_type": "code",
        "outputId": "31ca223c-9874-42d6-e8d5-780d1b1a2afa",
        "colab": {
          "base_uri": "https://localhost:8080/",
          "height": 139
        }
      },
      "source": [
        "# Check the version of libraries\n",
        "# Python Versions\n",
        "import sys\n",
        "print('python: {}'.format(sys.version))\n",
        "# scipy version\n",
        "import scipy\n",
        "print('scipy: {}'.format(scipy.__version__))\n",
        "# numpy version\n",
        "import numpy\n",
        "print('numpy: {}'.format(numpy.__version__))\n",
        "# matplotlib version\n",
        "import matplotlib\n",
        "print('matplotlib: {}'.format(matplotlib.__version__))\n",
        "# pandas version\n",
        "import pandas\n",
        "print('pandas: {}'.format(pandas.__version__))\n",
        "# sklearn version\n",
        "import sklearn\n",
        "print('sklearn: {}'.format(sklearn.__version__))\n"
      ],
      "execution_count": 0,
      "outputs": [
        {
          "output_type": "stream",
          "text": [
            "python: 3.6.9 (default, Apr 18 2020, 01:56:04) \n",
            "[GCC 8.4.0]\n",
            "scipy: 1.4.1\n",
            "numpy: 1.18.4\n",
            "matplotlib: 3.2.1\n",
            "pandas: 1.0.3\n",
            "sklearn: 0.22.2.post1\n"
          ],
          "name": "stdout"
        }
      ]
    },
    {
      "cell_type": "code",
      "metadata": {
        "id": "qNedUXsq3-sW",
        "colab_type": "code",
        "colab": {}
      },
      "source": [
        "import pandas\n",
        "from pandas.plotting import scatter_matrix\n",
        "import matplotlib.pyplot as plt\n",
        "from sklearn import model_selection \n",
        "from sklearn import preprocessing\n",
        "from sklearn.metrics import classification_report\n",
        "from sklearn.metrics import confusion_matrix\n",
        "from sklearn.metrics import accuracy_score\n",
        "from sklearn.linear_model import LogisticRegression\n",
        "from sklearn.tree import DecisionTreeClassifier\n",
        "from sklearn.neighbors import KNeighborsClassifier\n",
        "from sklearn.discriminant_analysis import LinearDiscriminantAnalysis\n",
        "from sklearn.naive_bayes import GaussianNB\n",
        "from sklearn.svm import SVC\n",
        "from sklearn.ensemble import RandomForestClassifier"
      ],
      "execution_count": 0,
      "outputs": []
    },
    {
      "cell_type": "code",
      "metadata": {
        "id": "lDQ7htrC4s5Q",
        "colab_type": "code",
        "colab": {}
      },
      "source": [
        "from google.colab import files"
      ],
      "execution_count": 0,
      "outputs": []
    },
    {
      "cell_type": "code",
      "metadata": {
        "id": "85mvDNEO41Kj",
        "colab_type": "code",
        "outputId": "cca0a0b4-ef20-4740-cfec-307fa1a88df9",
        "colab": {
          "resources": {
            "http://localhost:8080/nbextensions/google.colab/files.js": {
              "data": "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",
              "ok": true,
              "headers": [
                [
                  "content-type",
                  "application/javascript"
                ]
              ],
              "status": 200,
              "status_text": ""
            }
          },
          "base_uri": "https://localhost:8080/",
          "height": 41
        }
      },
      "source": [
        "uploaded = files.upload()"
      ],
      "execution_count": 0,
      "outputs": [
        {
          "output_type": "display_data",
          "data": {
            "text/html": [
              "\n",
              "     <input type=\"file\" id=\"files-5d151fa7-4f1c-45a8-bbd0-4380a052bf00\" name=\"files[]\" multiple disabled />\n",
              "     <output id=\"result-5d151fa7-4f1c-45a8-bbd0-4380a052bf00\">\n",
              "      Upload widget is only available when the cell has been executed in the\n",
              "      current browser session. Please rerun this cell to enable.\n",
              "      </output>\n",
              "      <script src=\"/nbextensions/google.colab/files.js\"></script> "
            ],
            "text/plain": [
              "<IPython.core.display.HTML object>"
            ]
          },
          "metadata": {
            "tags": []
          }
        }
      ]
    },
    {
      "cell_type": "code",
      "metadata": {
        "id": "kiLouUDQ3-sn",
        "colab_type": "code",
        "colab": {}
      },
      "source": [
        "url = 'FVsN1.csv'#\"data_set.csv\"\n",
        "dataset = pandas.read_csv(url)"
      ],
      "execution_count": 0,
      "outputs": []
    },
    {
      "cell_type": "code",
      "metadata": {
        "id": "i2ehCM6f3-sv",
        "colab_type": "code",
        "outputId": "8d66605d-9307-433e-fd2b-003aba5796de",
        "colab": {
          "base_uri": "https://localhost:8080/",
          "height": 35
        }
      },
      "source": [
        "print(dataset.shape)"
      ],
      "execution_count": 0,
      "outputs": [
        {
          "output_type": "stream",
          "text": [
            "(5022, 151)\n"
          ],
          "name": "stdout"
        }
      ]
    },
    {
      "cell_type": "code",
      "metadata": {
        "id": "_wXQHtbu3-s4",
        "colab_type": "code",
        "colab": {}
      },
      "source": [
        "#print(dataset.iloc[0:10,0:9])\n",
        "#print(dataset.iloc[5010:5022,0:9])"
      ],
      "execution_count": 0,
      "outputs": []
    },
    {
      "cell_type": "code",
      "metadata": {
        "id": "cyDDyLm83-s_",
        "colab_type": "code",
        "outputId": "08791496-fe4b-4178-8775-7befc367dea1",
        "colab": {
          "base_uri": "https://localhost:8080/",
          "height": 208
        }
      },
      "source": [
        "print(dataset.describe())"
      ],
      "execution_count": 0,
      "outputs": [
        {
          "output_type": "stream",
          "text": [
            "                F1           F2  ...         F152           L1\n",
            "count  5022.000000  5022.000000  ...  5022.000000  5022.000000\n",
            "mean    173.012744   473.886898  ...     6.070092     0.478295\n",
            "std      63.262935   250.782028  ...    10.170282     0.499578\n",
            "min      32.000000    47.000000  ...     0.000000     0.000000\n",
            "25%     133.000000   319.000000  ...     0.000000     0.000000\n",
            "50%     161.000000   398.000000  ...     0.000000     0.000000\n",
            "75%     197.000000   568.000000  ...    10.000000     1.000000\n",
            "max     439.000000  1726.000000  ...    99.000000     1.000000\n",
            "\n",
            "[8 rows x 151 columns]\n"
          ],
          "name": "stdout"
        }
      ]
    },
    {
      "cell_type": "code",
      "metadata": {
        "id": "4k7dWbRE3-tJ",
        "colab_type": "code",
        "outputId": "56e2faad-dfb6-4158-a059-8044de50c1d6",
        "colab": {
          "base_uri": "https://localhost:8080/",
          "height": 87
        }
      },
      "source": [
        "print(dataset.groupby('L1').size())"
      ],
      "execution_count": 0,
      "outputs": [
        {
          "output_type": "stream",
          "text": [
            "L1\n",
            "0    2620\n",
            "1    2402\n",
            "dtype: int64\n"
          ],
          "name": "stdout"
        }
      ]
    },
    {
      "cell_type": "code",
      "metadata": {
        "id": "dzYlykcZ3-tR",
        "colab_type": "code",
        "colab": {}
      },
      "source": [
        "dataset.plot(kind='box', subplots = False, sharex = False, sharey = False)\n",
        "plt.show()"
      ],
      "execution_count": 0,
      "outputs": []
    },
    {
      "cell_type": "code",
      "metadata": {
        "id": "Zi0uZmVc3-tV",
        "colab_type": "code",
        "colab": {}
      },
      "source": [
        "dataset.hist()\n",
        "plt.show()"
      ],
      "execution_count": 0,
      "outputs": []
    },
    {
      "cell_type": "code",
      "metadata": {
        "id": "e6TJiIh-3-ta",
        "colab_type": "code",
        "colab": {}
      },
      "source": [
        "scatter_matrix(dataset)\n",
        "plt.show()"
      ],
      "execution_count": 0,
      "outputs": []
    },
    {
      "cell_type": "code",
      "metadata": {
        "id": "Ajf7o-Nm3-tf",
        "colab_type": "code",
        "colab": {}
      },
      "source": [
        "X2 = dataset.iloc[0:,0:151]\n",
        "#Y2 = dataset.iloc[0:,151]\n",
        "X1 = dataset.iloc[0:,0:150]\n",
        "#X1 = X1.drop('L1', axis=1)\n",
        "Y1 = dataset.L1\n",
        "X = X1.values\n",
        "Y = Y1.values\n",
        "###Iris data set values\n",
        "#array = dataset.values\n",
        "#X = array[:,0:4]\n",
        "#Y = array[:,4]\n",
        "validation_size = 0.20\n",
        "seed = 6"
      ],
      "execution_count": 0,
      "outputs": []
    },
    {
      "cell_type": "code",
      "metadata": {
        "scrolled": true,
        "id": "psajdjL-3-tm",
        "colab_type": "code",
        "outputId": "8b84a5d2-0837-441e-8ae0-0f6ef5f33efe",
        "colab": {
          "base_uri": "https://localhost:8080/",
          "height": 225
        }
      },
      "source": [
        "print(Y1)"
      ],
      "execution_count": 0,
      "outputs": [
        {
          "output_type": "stream",
          "text": [
            "0       1\n",
            "1       1\n",
            "2       1\n",
            "3       1\n",
            "4       1\n",
            "       ..\n",
            "5017    0\n",
            "5018    0\n",
            "5019    0\n",
            "5020    0\n",
            "5021    0\n",
            "Name: L1, Length: 5022, dtype: int64\n"
          ],
          "name": "stdout"
        }
      ]
    },
    {
      "cell_type": "code",
      "metadata": {
        "id": "kT_mV0eP3-tr",
        "colab_type": "code",
        "colab": {}
      },
      "source": [
        "X_Train, X_Test, Y_Train, Y_Test = model_selection.train_test_split(X, Y, test_size = validation_size, random_state = seed)\n",
        "# Scale the data / normalize\n",
        "#min_max_scaler = preprocessing.QuantileTransformer(output_distribution='normal', random_state=0)#preprocessing.MinMaxScaler()\n",
        "#X_train_minmax = min_max_scaler.fit_transform(X_Train)\n",
        "X_train_minmax = preprocessing.normalize(X_Train)\n",
        "X_test_minmx =  preprocessing.normalize(X_Test)"
      ],
      "execution_count": 0,
      "outputs": []
    },
    {
      "cell_type": "code",
      "metadata": {
        "id": "qpMJpJVxO1Fc",
        "colab_type": "code",
        "outputId": "2bc98eab-f0f2-45d7-c259-20bbac9a9ee1",
        "colab": {
          "base_uri": "https://localhost:8080/",
          "height": 183
        }
      },
      "source": [
        "print(X_test_minmx[5])\n",
        "#print(X_Train)"
      ],
      "execution_count": 0,
      "outputs": [
        {
          "output_type": "error",
          "ename": "NameError",
          "evalue": "ignored",
          "traceback": [
            "\u001b[0;31m---------------------------------------------------------------------------\u001b[0m",
            "\u001b[0;31mNameError\u001b[0m                                 Traceback (most recent call last)",
            "\u001b[0;32m<ipython-input-80-5133772b33a9>\u001b[0m in \u001b[0;36m<module>\u001b[0;34m()\u001b[0m\n\u001b[0;32m----> 1\u001b[0;31m \u001b[0mprint\u001b[0m\u001b[0;34m(\u001b[0m\u001b[0mX_test_minmax\u001b[0m\u001b[0;34m.\u001b[0m\u001b[0maxis\u001b[0m\u001b[0;34m(\u001b[0m\u001b[0;36m1\u001b[0m\u001b[0;34m)\u001b[0m\u001b[0;34m)\u001b[0m\u001b[0;34m\u001b[0m\u001b[0;34m\u001b[0m\u001b[0m\n\u001b[0m\u001b[1;32m      2\u001b[0m \u001b[0;31m#print(X_Train)\u001b[0m\u001b[0;34m\u001b[0m\u001b[0;34m\u001b[0m\u001b[0;34m\u001b[0m\u001b[0m\n",
            "\u001b[0;31mNameError\u001b[0m: name 'X_test_minmax' is not defined"
          ]
        }
      ]
    },
    {
      "cell_type": "code",
      "metadata": {
        "id": "M97a6Se7pJ_c",
        "colab_type": "code",
        "outputId": "f412ab56-ea3c-4f0e-dddf-dc9f8407fe7c",
        "colab": {
          "base_uri": "https://localhost:8080/",
          "height": 451
        }
      },
      "source": [
        "from keras.models import Sequential\n",
        "from keras.layers import Dense, Conv1D, MaxPooling1D, Flatten\n",
        "from keras.layers import LSTM\n",
        "from keras.layers.embeddings import Embedding\n",
        "\n",
        "embedding_dim = 64\n",
        "\n",
        "# create the model\n",
        "model = Sequential()\n",
        "model.add(Embedding(150, embedding_dim, input_length=150))\n",
        "model.add(Conv1D(filters=64, kernel_size=6, padding='same', activation='relu'))\n",
        "model.add(MaxPooling1D(pool_size=2))\n",
        "model.add(Conv1D(filters=32, kernel_size=3, padding='same', activation='relu'))\n",
        "model.add(MaxPooling1D(pool_size=2))\n",
        "model.add(Flatten())\n",
        "model.add(Dense(128, activation='relu'))\n",
        "model.add(Dense(2, activation='softmax'))\n",
        "#sparse_categorical_crossentropy\n",
        "model.compile(loss='mean_squared_error', optimizer='adam', metrics=['accuracy'])#categorical_crossentropy \n",
        "print(model.summary())"
      ],
      "execution_count": 0,
      "outputs": [
        {
          "output_type": "stream",
          "text": [
            "Model: \"sequential_25\"\n",
            "_________________________________________________________________\n",
            "Layer (type)                 Output Shape              Param #   \n",
            "=================================================================\n",
            "embedding_17 (Embedding)     (None, 150, 64)           9600      \n",
            "_________________________________________________________________\n",
            "conv1d_44 (Conv1D)           (None, 150, 64)           24640     \n",
            "_________________________________________________________________\n",
            "max_pooling1d_41 (MaxPooling (None, 75, 64)            0         \n",
            "_________________________________________________________________\n",
            "conv1d_45 (Conv1D)           (None, 75, 32)            6176      \n",
            "_________________________________________________________________\n",
            "max_pooling1d_42 (MaxPooling (None, 37, 32)            0         \n",
            "_________________________________________________________________\n",
            "flatten_21 (Flatten)         (None, 1184)              0         \n",
            "_________________________________________________________________\n",
            "dense_47 (Dense)             (None, 128)               151680    \n",
            "_________________________________________________________________\n",
            "dense_48 (Dense)             (None, 2)                 258       \n",
            "=================================================================\n",
            "Total params: 192,354\n",
            "Trainable params: 192,354\n",
            "Non-trainable params: 0\n",
            "_________________________________________________________________\n",
            "None\n"
          ],
          "name": "stdout"
        }
      ]
    },
    {
      "cell_type": "code",
      "metadata": {
        "id": "Yprr5CxhqIkr",
        "colab_type": "code",
        "outputId": "b68bb8e8-f1c5-4658-97c7-53d66b93d37d",
        "colab": {
          "base_uri": "https://localhost:8080/",
          "height": 260
        }
      },
      "source": [
        "from keras.utils import to_categorical\n",
        "train_labels = to_categorical(Y_Train)\n",
        "test_labels = to_categorical(Y_Test)\n",
        "print(train_labels)\n",
        "print(test_labels)"
      ],
      "execution_count": 0,
      "outputs": [
        {
          "output_type": "stream",
          "text": [
            "[[0. 1.]\n",
            " [1. 0.]\n",
            " [1. 0.]\n",
            " ...\n",
            " [0. 1.]\n",
            " [0. 1.]\n",
            " [1. 0.]]\n",
            "[[0. 1.]\n",
            " [1. 0.]\n",
            " [0. 1.]\n",
            " ...\n",
            " [1. 0.]\n",
            " [0. 1.]\n",
            " [0. 1.]]\n"
          ],
          "name": "stdout"
        }
      ]
    },
    {
      "cell_type": "code",
      "metadata": {
        "id": "XbMhh-J9pll6",
        "colab_type": "code",
        "outputId": "642e0724-3eba-4486-f601-02f6dc2c2960",
        "colab": {
          "base_uri": "https://localhost:8080/",
          "height": 592
        }
      },
      "source": [
        "#X_train, X_test, y_train, y_test = train_test_split(X, Y, test_size=0.2)\n",
        "model.fit(X_train_minmax, train_labels, validation_data=(X_test_minmx, test_labels), epochs=15, batch_size=128)"
      ],
      "execution_count": 0,
      "outputs": [
        {
          "output_type": "stream",
          "text": [
            "Train on 4017 samples, validate on 1005 samples\n",
            "Epoch 1/15\n",
            "4017/4017 [==============================] - 3s 713us/step - loss: 0.2495 - accuracy: 0.5218 - val_loss: 0.2495 - val_accuracy: 0.5214\n",
            "Epoch 2/15\n",
            "4017/4017 [==============================] - 3s 711us/step - loss: 0.2495 - accuracy: 0.5218 - val_loss: 0.2495 - val_accuracy: 0.5214\n",
            "Epoch 3/15\n",
            "4017/4017 [==============================] - 3s 721us/step - loss: 0.2495 - accuracy: 0.5218 - val_loss: 0.2495 - val_accuracy: 0.5214\n",
            "Epoch 4/15\n",
            "4017/4017 [==============================] - 3s 719us/step - loss: 0.2496 - accuracy: 0.5218 - val_loss: 0.2495 - val_accuracy: 0.5214\n",
            "Epoch 5/15\n",
            "4017/4017 [==============================] - 3s 727us/step - loss: 0.2495 - accuracy: 0.5218 - val_loss: 0.2495 - val_accuracy: 0.5214\n",
            "Epoch 6/15\n",
            "4017/4017 [==============================] - 3s 713us/step - loss: 0.2495 - accuracy: 0.5218 - val_loss: 0.2495 - val_accuracy: 0.5214\n",
            "Epoch 7/15\n",
            "4017/4017 [==============================] - 3s 708us/step - loss: 0.2495 - accuracy: 0.5218 - val_loss: 0.2495 - val_accuracy: 0.5214\n",
            "Epoch 8/15\n",
            "4017/4017 [==============================] - 3s 718us/step - loss: 0.2495 - accuracy: 0.5218 - val_loss: 0.2495 - val_accuracy: 0.5214\n",
            "Epoch 9/15\n",
            "4017/4017 [==============================] - 3s 703us/step - loss: 0.2495 - accuracy: 0.5218 - val_loss: 0.2495 - val_accuracy: 0.5214\n",
            "Epoch 10/15\n",
            "4017/4017 [==============================] - 3s 710us/step - loss: 0.2495 - accuracy: 0.5218 - val_loss: 0.2495 - val_accuracy: 0.5214\n",
            "Epoch 11/15\n",
            "4017/4017 [==============================] - 3s 711us/step - loss: 0.2495 - accuracy: 0.5218 - val_loss: 0.2495 - val_accuracy: 0.5214\n",
            "Epoch 12/15\n",
            "4017/4017 [==============================] - 3s 713us/step - loss: 0.2495 - accuracy: 0.5218 - val_loss: 0.2495 - val_accuracy: 0.5214\n",
            "Epoch 13/15\n",
            "4017/4017 [==============================] - 3s 700us/step - loss: 0.2495 - accuracy: 0.5218 - val_loss: 0.2495 - val_accuracy: 0.5214\n",
            "Epoch 14/15\n",
            "4017/4017 [==============================] - 3s 702us/step - loss: 0.2495 - accuracy: 0.5218 - val_loss: 0.2495 - val_accuracy: 0.5214\n",
            "Epoch 15/15\n",
            "4017/4017 [==============================] - 3s 704us/step - loss: 0.2495 - accuracy: 0.5218 - val_loss: 0.2495 - val_accuracy: 0.5214\n"
          ],
          "name": "stdout"
        },
        {
          "output_type": "execute_result",
          "data": {
            "text/plain": [
              "<keras.callbacks.callbacks.History at 0x7f9d09d67eb8>"
            ]
          },
          "metadata": {
            "tags": []
          },
          "execution_count": 93
        }
      ]
    },
    {
      "cell_type": "markdown",
      "metadata": {
        "id": "xR4nbFBr3-tw",
        "colab_type": "text"
      },
      "source": [
        "# Calculate the feature importance"
      ]
    },
    {
      "cell_type": "code",
      "metadata": {
        "id": "t3XDBbcV3-tx",
        "colab_type": "code",
        "colab": {}
      },
      "source": [
        "import pandas as pd\n",
        "import numpy as np\n",
        "url = \"https://archive.ics.uci.edu/ml/machine-learning-databases/iris/iris.data\"\n",
        "names = ['sepal-length', 'sepal-width', 'petal-length', 'petal-width', 'class']\n",
        "data = pd.read_csv(url, names = names)\n",
        "#data = pd.read_csv(\"train.csv\")\n",
        "X = X1#data.iloc[:,0:4]  #independent columns\n",
        "y = Y1#data.iloc[:,4]    #target column i.e price range\n",
        "from sklearn.ensemble import ExtraTreesClassifier\n",
        "from sklearn.tree import DecisionTreeClassifier\n",
        "from sklearn.model_selection import KFold\n",
        "from sklearn.model_selection import cross_val_score\n",
        "import matplotlib.pyplot as plt\n",
        "model = DecisionTreeClassifier()\n",
        "#kfold = KFold(n_splits=10, random_state=899, shuffle=True)\n",
        "#results = cross_val_score(model, X, y, cv=kfold)\n",
        "#print(results.mean())\n",
        "model.fit(X,Y)\n",
        "print(model.feature_importances_) #use inbuilt class feature_importances of tree based classifiers\n",
        "#plot graph of feature importances for better visualization\n",
        "feat_importances = pd.Series(model.feature_importances_, index=X.columns)\n"
      ],
      "execution_count": 0,
      "outputs": []
    },
    {
      "cell_type": "code",
      "metadata": {
        "id": "fW-amBvN3-t1",
        "colab_type": "code",
        "colab": {}
      },
      "source": [
        "print(model.feature_importances_) #use inbuilt class feature_importances of tree based classifiers\n",
        "#plot graph of feature importances for better visualization\n",
        "feat_importances = pd.Series(model.feature_importances_, index=X.columns)\n",
        "feat_importances.nlargest(153).plot(kind='barh', figsize=(30,120))\n",
        "plt.show()"
      ],
      "execution_count": 0,
      "outputs": []
    },
    {
      "cell_type": "code",
      "metadata": {
        "id": "y8c6QKyo3-t5",
        "colab_type": "code",
        "colab": {}
      },
      "source": [
        "import pandas as pd\n",
        "import numpy as np\n",
        "from sklearn.feature_selection import SelectKBest\n",
        "from sklearn.feature_selection import chi2\n",
        "#data = pd.read_csv(\"train.csv\")\n",
        "#X = data.iloc[:,0:20]  #independent columns\n",
        "#y = data.iloc[:,-1]    #target column i.e price range\n",
        "#X = X2#data.iloc[:,0:4]  #independent columns\n",
        "#y = Y2#data.iloc[:,4]    #target column i.e price range\n",
        "#apply SelectKBest class to extract top 10 best features\n",
        "bestfeatures = SelectKBest(score_func=chi2, k=10)\n",
        "fit = bestfeatures.fit(X,y)\n",
        "dfscores = pd.DataFrame(fit.scores_)\n",
        "dfcolumns = pd.DataFrame(X.columns)\n",
        "#concat two dataframes for better visualization \n",
        "featureScores = pd.concat([dfcolumns,dfscores],axis=1)\n",
        "featureScores.columns = ['Specs','Score']  #naming the dataframe columns\n",
        "print(featureScores.nlargest(10,'Score'))  #print 10 best features"
      ],
      "execution_count": 0,
      "outputs": []
    },
    {
      "cell_type": "code",
      "metadata": {
        "id": "9lkI1bnm3-uB",
        "colab_type": "code",
        "colab": {}
      },
      "source": [
        "print(X_train_minmax)"
      ],
      "execution_count": 0,
      "outputs": []
    },
    {
      "cell_type": "code",
      "metadata": {
        "id": "PgiyW0hU3-uF",
        "colab_type": "code",
        "colab": {}
      },
      "source": [
        "seed = 6\n",
        "scoring = 'accuracy'"
      ],
      "execution_count": 0,
      "outputs": []
    },
    {
      "cell_type": "code",
      "metadata": {
        "id": "N65QJrww3-uJ",
        "colab_type": "code",
        "colab": {}
      },
      "source": [
        "# Spot Check Algorithms\n",
        "models = []\n",
        "models.append(('LR', LogisticRegression(max_iter=1000, penalty='l2',tol=0.0001,C=1.0)))\n",
        "models.append(('LDA', LinearDiscriminantAnalysis(tol=0.0001)))\n",
        "models.append(('KNN', KNeighborsClassifier(n_neighbors=10)))\n",
        "models.append(('CART', DecisionTreeClassifier()))\n",
        "models.append(('NB', GaussianNB()))\n",
        "models.append(('SVM', SVC(kernel='rbf',max_iter=1000, gamma=0.25, C=2.0,probability=True)))\n",
        "#models.append(('RFC', RandomForestClassifier(n_estimators=1000)))#max_depth=100\n",
        "\n",
        "# Evaluate each model in turn\n",
        "results = []\n",
        "names = []\n",
        "for name, model in models:\n",
        "    # (suggestions) Increase the number of iterations (max_iter) or scale the data\n",
        "    kfold = model_selection.KFold(n_splits = 10, random_state = seed, shuffle=True)\n",
        "    cv_results = model_selection.cross_val_score(model, X_Train, Y_Train, cv = kfold, scoring = scoring)\n",
        "    results.append(cv_results)\n",
        "    names.append(name)\n",
        "    msg = \"%s : %f (%F)\" % (name, cv_results.mean(), cv_results.std())\n",
        "    print(msg)"
      ],
      "execution_count": 0,
      "outputs": []
    },
    {
      "cell_type": "code",
      "metadata": {
        "id": "urc0G8nV3-uN",
        "colab_type": "code",
        "colab": {}
      },
      "source": [
        "# Spot Check Algorithms\n",
        "models = []\n",
        "models.append(('SVM', SVC(kernel='rbf', gamma=0.25, C=2.0,probability=True)))\n",
        "#models.append(('RFC', RandomForestClassifier(n_estimators=1000)))#max_depth=100\n",
        "\n",
        "# Evaluate each model in turn\n",
        "results = []\n",
        "names = []\n",
        "for name, model in models:\n",
        "    # (suggestions) Increase the number of iterations (max_iter) or scale the data\n",
        "    kfold = model_selection.KFold(n_splits = 10, random_state = seed, shuffle=True)\n",
        "    cv_results = model_selection.cross_val_score(model, X_Train, Y_Train, cv = kfold, scoring = scoring)\n",
        "    results.append(cv_results)\n",
        "    names.append(name)\n",
        "    msg = \"%s : %f (%F)\" % (name, cv_results.mean(), cv_results.std())\n",
        "    print(msg)"
      ],
      "execution_count": 0,
      "outputs": []
    },
    {
      "cell_type": "code",
      "metadata": {
        "id": "8KjqubLS8cR-",
        "colab_type": "code",
        "colab": {}
      },
      "source": [
        "# Spot Check Algorithms\n",
        "models = []\n",
        "#models.append(('SVM', SVC(kernel='rbf', gamma=0.25, C=2.0,probability=True)))\n",
        "models.append(('RFC', RandomForestClassifier(n_estimators=100)))#max_depth=100\n",
        "\n",
        "# Evaluate each model in turn\n",
        "results = []\n",
        "names = []\n",
        "for name, model in models:\n",
        "    # (suggestions) Increase the number of iterations (max_iter) or scale the data\n",
        "    kfold = model_selection.KFold(n_splits = 10, random_state = seed, shuffle=True)\n",
        "    cv_results = model_selection.cross_val_score(model, X_train_minmax, Y_Train, cv = kfold, scoring = scoring)\n",
        "    results.append(cv_results)\n",
        "    names.append(name)\n",
        "    msg = \"%s : %f (%F)\" % (name, cv_results.mean(), cv_results.std())\n",
        "    print(msg)"
      ],
      "execution_count": 0,
      "outputs": []
    },
    {
      "cell_type": "code",
      "metadata": {
        "id": "bq51rHju3-uT",
        "colab_type": "code",
        "colab": {}
      },
      "source": [
        "fig = plt.figure()\n",
        "fig.suptitle('Algorithm comparison')\n",
        "ax = fig.add_subplot(111)\n",
        "plt.boxplot(results)\n",
        "ax.set_xticklabels(names)\n",
        "plt.show()"
      ],
      "execution_count": 0,
      "outputs": []
    },
    {
      "cell_type": "code",
      "metadata": {
        "id": "Bb7uca9N3-uX",
        "colab_type": "code",
        "colab": {}
      },
      "source": [
        "# Make predictions on validation dataset using Gradient Boosting Classifier\n",
        "# X_train, Y_train, X_validation, and Y_validation are as defined earlier in this notebook. \n",
        "from sklearn.ensemble import GradientBoostingClassifier\n",
        "GBM = GradientBoostingClassifier()\n",
        "GBM.fit(X_Train, Y_Train)\n",
        "predictions = GBM.predict(X_Test)\n",
        "print(\"*Accuracy score for GBM: \", accuracy_score(Y_Test, predictions), \"\\n\")\n",
        "print(\"*Confusion Matrix for GBM: \")\n",
        "print(confusion_matrix(Y_Test, predictions))\n",
        "print(\"*Classification Report for GBM: \")\n",
        "print(classification_report(Y_Test, predictions))"
      ],
      "execution_count": 0,
      "outputs": []
    },
    {
      "cell_type": "code",
      "metadata": {
        "id": "0yKduWptrW3r",
        "colab_type": "code",
        "colab": {}
      },
      "source": [
        "import seaborn as sns\n",
        "# Plot Heat Map\n",
        "fig , ax = plt.subplots()\n",
        "fig.set_size_inches(13, 8)\n",
        "sns.heatmap(confusion_matrix(Y_Test, predictions))"
      ],
      "execution_count": 0,
      "outputs": []
    },
    {
      "cell_type": "code",
      "metadata": {
        "id": "FrlC5pqgp29o",
        "colab_type": "code",
        "colab": {}
      },
      "source": [
        "# Adaboost\n",
        "from sklearn.ensemble import AdaBoostClassifier\n",
        "model = AdaBoostClassifier()\n",
        "model.fit(X_Train, Y_Train)\n",
        "ADA_pred = model.predict(X_Test)\n",
        "prediction[\"Adaboost\"] = accuracy_score(ADA_pred , Y_Test)\n",
        "print(prediction[\"Adaboost\"])"
      ],
      "execution_count": 0,
      "outputs": []
    },
    {
      "cell_type": "code",
      "metadata": {
        "id": "pYBGFxPTqTcv",
        "colab_type": "code",
        "colab": {}
      },
      "source": [
        "# 5). ----- Plot Confusion Matrix for NB -----\n",
        "import numpy as np\n",
        "import seaborn as sns\n",
        "# Plot confusion matrix\n",
        "conf_mat = confusion_matrix(Y_Test, ADA_pred)#, labels = types)\n",
        "print(conf_mat)\n",
        "#Normalize confusion_matrix\n",
        "conf_mat = conf_mat.astype('float')/ conf_mat.sum(axis=1)[:, np.newaxis]\n",
        "\n",
        "# Plot Heat Map\n",
        "fig , ax = plt.subplots()\n",
        "fig.set_size_inches(13, 8)\n",
        "sns.heatmap(conf_mat)\n"
      ],
      "execution_count": 0,
      "outputs": []
    },
    {
      "cell_type": "code",
      "metadata": {
        "id": "D4KW7VgA3-uj",
        "colab_type": "code",
        "colab": {}
      },
      "source": [
        "# Cross Validation Classification ROC AUC\n",
        "# Uses the RandomForestClassifier\n",
        "from sklearn.model_selection import KFold\n",
        "from sklearn.model_selection import cross_val_score\n",
        "from sklearn.ensemble import RandomForestClassifier\n",
        "from sklearn.preprocessing import label_binarize\n",
        "# Input array X and Label array Y are as defined previously\n",
        "#array = dfoas_merge.values\n",
        "# For AUC, Y needs to be int64 data type. If float64 data type originally, convert to int64 data type. \n",
        "# Also, If Y is str or object data type, it does not convert to int64\n",
        "#Y_int64=Y_float64.astype(np.int64)\n",
        "kfold = KFold(n_splits=10, random_state=6779, shuffle=True)\n",
        "model = RandomForestClassifier()\n",
        "scoring = 'roc_auc'\n",
        "results = cross_val_score(model, X_Test, Y_Test, cv=kfold, scoring=scoring)\n",
        "print(\"AUC: \", results.mean(), \"AUC_stdev: \", results.std())"
      ],
      "execution_count": 0,
      "outputs": []
    },
    {
      "cell_type": "code",
      "metadata": {
        "id": "7Jxc6gZ23-uv",
        "colab_type": "code",
        "colab": {}
      },
      "source": [
        "from sklearn.decomposition import PCA\n",
        "X = np.array([[-1, -1], [-2, -1], [-3, -2], [1, 1], [2, 1], [3, 2]])\n",
        "pca = PCA(n_components=80)\n",
        "pca.fit(X_Train)\n",
        "X1 = pca.transform(X_Train)\n",
        "#PCA(n_components=2)\n",
        "print(pca.explained_variance_ratio_)\n",
        "\n",
        "print(pca.singular_values_)\n",
        "#print(X1)"
      ],
      "execution_count": 0,
      "outputs": []
    },
    {
      "cell_type": "markdown",
      "metadata": {
        "id": "iFDGd54Y3-u0",
        "colab_type": "text"
      },
      "source": [
        "Create a PIPELINE that extracts features from the data then creates a model (from Reference 24)"
      ]
    },
    {
      "cell_type": "code",
      "metadata": {
        "id": "9EdMGxNs3-u1",
        "colab_type": "code",
        "colab": {}
      },
      "source": [
        "# Create a PIPELINE that extracts features from the data then creates a model (from Reference 24)\n",
        "# Uses DecisionTreeClassifier\n",
        "from sklearn.model_selection import KFold\n",
        "from sklearn.model_selection import cross_val_score\n",
        "from sklearn.pipeline import Pipeline\n",
        "from sklearn.pipeline import FeatureUnion\n",
        "from sklearn.tree import DecisionTreeClassifier\n",
        "from sklearn.decomposition import PCA\n",
        "from sklearn.feature_selection import SelectKBest\n",
        "# X, Y as defined/calculated previously\n",
        "# create feature union\n",
        "features = []\n",
        "features.append(('pca', PCA(n_components=100)))\n",
        "features.append(('select_best', SelectKBest(k=100)))\n",
        "feature_union = FeatureUnion(features)\n",
        "# create pipeline\n",
        "estimators = []\n",
        "estimators.append(('feature_union', feature_union))\n",
        "estimators.append(('CART', DecisionTreeClassifier()))\n",
        "#estimators.append(('SVM', SVC()))\n",
        "model = Pipeline(estimators)\n",
        "# evaluate PIPELINE\n",
        "kfold = KFold(n_splits=10, random_state=877, shuffle=True)\n",
        "results = cross_val_score(model, X_Train, Y_Train, cv=kfold)\n",
        "print(results.mean())"
      ],
      "execution_count": 0,
      "outputs": []
    },
    {
      "cell_type": "code",
      "metadata": {
        "id": "fWmZEdw83-u5",
        "colab_type": "code",
        "colab": {}
      },
      "source": [
        "# Create a PIPELINE that extracts features from the data then creates a model (from Reference 24, 26)\n",
        "# Uses GradientBoostingClassifier\n",
        "from sklearn.model_selection import KFold\n",
        "from sklearn.model_selection import cross_val_score\n",
        "from sklearn.pipeline import Pipeline\n",
        "from sklearn.pipeline import FeatureUnion\n",
        "from sklearn.ensemble import GradientBoostingClassifier\n",
        "from sklearn.decomposition import PCA\n",
        "from sklearn.feature_selection import SelectKBest\n",
        "# X, Y as defined/calculated previously\n",
        "# create feature union\n",
        "features = []\n",
        "features.append(('pca', PCA(n_components=3)))\n",
        "features.append(('select_best', SelectKBest(k=4)))\n",
        "feature_union = FeatureUnion(features)\n",
        "# create pipeline\n",
        "estimators = []\n",
        "estimators.append(('feature_union', feature_union))\n",
        "estimators.append(('GBC', GradientBoostingClassifier()))\n",
        "model = Pipeline(estimators)\n",
        "# evaluate pipeline\n",
        "kfold = KFold(n_splits=10, random_state=899, shuffle=True)\n",
        "results = cross_val_score(model, X_Train, Y_Train, cv=kfold)\n",
        "print(results.mean())"
      ],
      "execution_count": 0,
      "outputs": []
    },
    {
      "cell_type": "code",
      "metadata": {
        "id": "1QNsqFNv3-vA",
        "colab_type": "code",
        "colab": {}
      },
      "source": [
        "import tensorflow as tf"
      ],
      "execution_count": 0,
      "outputs": []
    },
    {
      "cell_type": "code",
      "metadata": {
        "id": "MaIULUjLU7LU",
        "colab_type": "code",
        "colab": {}
      },
      "source": [
        ""
      ],
      "execution_count": 0,
      "outputs": []
    },
    {
      "cell_type": "code",
      "metadata": {
        "id": "xv4m1BYdA7QU",
        "colab_type": "code",
        "colab": {}
      },
      "source": [
        "model = tf.keras.models.Sequential([tf.keras.layers.Dense(4000, activation=tf.nn.relu),\n",
        "                                    tf.keras.layers.Dense(4000, activation=tf.nn.relu),\n",
        "                                    tf.keras.layers.Dense(2000, activation=tf.nn.relu),\n",
        "                                    tf.keras.layers.Dense(2000, activation=tf.nn.sigmoid),\n",
        "                                    tf.keras.layers.Dense(2, activation=tf.nn.sigmoid)])"
      ],
      "execution_count": 0,
      "outputs": []
    },
    {
      "cell_type": "code",
      "metadata": {
        "id": "MFIk-c3CBQh_",
        "colab_type": "code",
        "colab": {}
      },
      "source": [
        "model.compile(optimizer=\"SGD\", loss=\"mean_squared_error\", metrics=['accuracy'])\n"
      ],
      "execution_count": 0,
      "outputs": []
    },
    {
      "cell_type": "code",
      "metadata": {
        "id": "yDd1q8g7J01P",
        "colab_type": "code",
        "colab": {}
      },
      "source": [
        "model1.build(input_shape=(0,1))\n",
        "model1.summary()"
      ],
      "execution_count": 0,
      "outputs": []
    },
    {
      "cell_type": "code",
      "metadata": {
        "id": "kOuBnhfLExM6",
        "colab_type": "code",
        "colab": {}
      },
      "source": [
        "model.fit(X_Train, Y_Train, epochs=10)"
      ],
      "execution_count": 0,
      "outputs": []
    },
    {
      "cell_type": "code",
      "metadata": {
        "id": "r9q_8PL9Hkrb",
        "colab_type": "code",
        "colab": {}
      },
      "source": [
        "test_loss_vec, test_acc_vec = model.evaluate(X_Test, Y_Test, verbose=0)\n",
        "print(\"Loss: \", test_loss_vec*100, \" | \", \"Accuracy: \", test_acc_vec*100)"
      ],
      "execution_count": 0,
      "outputs": []
    },
    {
      "cell_type": "code",
      "metadata": {
        "id": "BUbW11UeC1hj",
        "colab_type": "code",
        "colab": {}
      },
      "source": [
        "# importing neural network libraries\n",
        "import tensorflow as tf\n",
        "from tensorflow.keras.preprocessing.text import Tokenizer\n",
        "from tensorflow.keras.preprocessing.sequence import pad_sequences\n",
        "from tensorflow.keras.models import Sequential\n",
        "from tensorflow.keras.layers import Dense, Dropout, Embedding, GRU, LSTM, RNN, SpatialDropout1D"
      ],
      "execution_count": 0,
      "outputs": []
    },
    {
      "cell_type": "code",
      "metadata": {
        "id": "0b77BQAgC6Ts",
        "colab_type": "code",
        "colab": {}
      },
      "source": [
        "# LSTM Neural Network\n",
        "lstm_model = Sequential(name = 'lstm_nn_model')\n",
        "lstm_model.add(layer = Embedding(input_dim = 150, output_dim = 120, name = '1st_layer'))\n",
        "lstm_model.add(layer = LSTM(units = 120, dropout = 0.2, recurrent_dropout = 0.2,activation='tanh', recurrent_activation='sigmoid', name = '2nd_layer'))\n",
        "lstm_model.add(layer = Dropout(rate = 0.5, name = '3rd_layer'))\n",
        "lstm_model.add(layer = Dense(units = 50,  activation = 'relu', name = '4th_layer'))\n",
        "lstm_model.add(layer = Dropout(rate = 0.5, name = '5th_layer'))\n",
        "lstm_model.add(layer = Dense(units = 2,  activation = 'sigmoid', name = 'output_layer'))\n",
        "# compiling the model\n",
        "lstm_model.compile(optimizer = 'adam', loss = 'sparse_categorical_crossentropy', metrics = ['accuracy'])"
      ],
      "execution_count": 0,
      "outputs": []
    },
    {
      "cell_type": "code",
      "metadata": {
        "id": "BTn0n7hWJePb",
        "colab_type": "code",
        "colab": {}
      },
      "source": [
        "lstm_model.summary()"
      ],
      "execution_count": 0,
      "outputs": []
    },
    {
      "cell_type": "code",
      "metadata": {
        "id": "Kdd2YjKhDdUU",
        "colab_type": "code",
        "colab": {}
      },
      "source": [
        "lstm_model_fit = lstm_model.fit(X_Train, Y_Train, epochs = 1)"
      ],
      "execution_count": 0,
      "outputs": []
    },
    {
      "cell_type": "code",
      "metadata": {
        "id": "8bnVcUCUajJM",
        "colab_type": "code",
        "colab": {}
      },
      "source": [
        "# GRU neural Network\n",
        "gru_model = Sequential(name = 'gru_nn_model')\n",
        "gru_model.add(layer = Embedding(input_dim = 150, output_dim = 120, name = '1st_layer'))\n",
        "gru_model.add(layer = GRU(units = 120, dropout = 0.2, \n",
        "                          recurrent_dropout = 0.2, recurrent_activation = 'relu', \n",
        "                          activation = 'relu', name = '2nd_layer'))\n",
        "gru_model.add(layer = Dropout(rate = 0.4, name = '3rd_layer'))\n",
        "gru_model.add(layer = Dense(units = 120, activation = 'relu', name = '4th_layer'))\n",
        "gru_model.add(layer = Dropout(rate = 0.2, name = '5th_layer'))\n",
        "gru_model.add(layer = Dense(units = len(set(Y_Train)), activation = 'softmax', name = 'output_layer'))\n",
        "# compiling the model\n",
        "gru_model.compile(optimizer = 'adam', loss = 'sparse_categorical_crossentropy', metrics = ['accuracy'])"
      ],
      "execution_count": 0,
      "outputs": []
    },
    {
      "cell_type": "code",
      "metadata": {
        "id": "7GaWIwDhz2D_",
        "colab_type": "code",
        "colab": {}
      },
      "source": [
        "gru_model.summary()"
      ],
      "execution_count": 0,
      "outputs": []
    },
    {
      "cell_type": "code",
      "metadata": {
        "id": "nvxuqgCu05oa",
        "colab_type": "code",
        "colab": {}
      },
      "source": [
        "print(X_Train[24,47].values)"
      ],
      "execution_count": 0,
      "outputs": []
    },
    {
      "cell_type": "code",
      "metadata": {
        "id": "kaWCp5wZ0q6S",
        "colab_type": "code",
        "colab": {}
      },
      "source": [
        "gru_model_fit = gru_model.fit(X_Train, Y_Train, epochs = 1)"
      ],
      "execution_count": 0,
      "outputs": []
    }
  ]
}