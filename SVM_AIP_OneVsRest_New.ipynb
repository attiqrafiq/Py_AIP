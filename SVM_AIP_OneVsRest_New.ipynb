{
  "nbformat": 4,
  "nbformat_minor": 0,
  "metadata": {
    "colab": {
      "name": "SVM_AIP_OneVsRest.ipynb",
      "provenance": [],
      "collapsed_sections": [],
      "authorship_tag": "ABX9TyPBvzEr03u9OupnA+fqpFnQ",
      "include_colab_link": true
    },
    "kernelspec": {
      "name": "python3",
      "display_name": "Python 3"
    }
  },
  "cells": [
    {
      "cell_type": "markdown",
      "metadata": {
        "id": "view-in-github",
        "colab_type": "text"
      },
      "source": [
        "<a href=\"https://colab.research.google.com/github/attiqrafiq/Py_AIP/blob/master/SVM_AIP_OneVsRest_New.ipynb\" target=\"_parent\"><img src=\"https://colab.research.google.com/assets/colab-badge.svg\" alt=\"Open In Colab\"/></a>"
      ]
    },
    {
      "cell_type": "code",
      "metadata": {
        "id": "sPm7hAlt0kDr",
        "colab_type": "code",
        "outputId": "862ee34d-0a3e-484f-9159-8a22ce06824d",
        "colab": {
          "base_uri": "https://localhost:8080/",
          "height": 35
        }
      },
      "source": [
        "%matplotlib inline\n",
        "print(__doc__)\n",
        "\n",
        "import numpy as np\n",
        "import pandas as pd\n",
        "import matplotlib.pyplot as plt\n",
        "from sklearn import svm, datasets\n",
        "from sklearn.metrics import roc_curve, auc\n",
        "#cross_validation -> model_selection\n",
        "from sklearn.model_selection import train_test_split \n",
        "from sklearn.preprocessing import label_binarize\n",
        "from sklearn.multiclass import OneVsRestClassifier\n",
        "from sklearn.svm import SVC"
      ],
      "execution_count": 2,
      "outputs": [
        {
          "output_type": "stream",
          "text": [
            "Automatically created module for IPython interactive environment\n"
          ],
          "name": "stdout"
        }
      ]
    },
    {
      "cell_type": "code",
      "metadata": {
        "id": "p7KhXDBQ0-0m",
        "colab_type": "code",
        "colab": {}
      },
      "source": [
        "url = 'https://raw.githubusercontent.com/attiqrafiq/Py_AIP/master/FVsNew1.csv'\n"
      ],
      "execution_count": 0,
      "outputs": []
    },
    {
      "cell_type": "code",
      "metadata": {
        "id": "JvvkSYEX03NX",
        "colab_type": "code",
        "colab": {}
      },
      "source": [
        "train=pd.read_csv(url)#'FVsNew1.csv')"
      ],
      "execution_count": 0,
      "outputs": []
    },
    {
      "cell_type": "code",
      "metadata": {
        "id": "_4a95dC-06mE",
        "colab_type": "code",
        "colab": {}
      },
      "source": [
        "X = train.iloc[0:,0:153]\n",
        "Y = train.iloc[0:,153:154]"
      ],
      "execution_count": 0,
      "outputs": []
    },
    {
      "cell_type": "code",
      "metadata": {
        "id": "dbOmErkGeC6C",
        "colab_type": "code",
        "colab": {
          "base_uri": "https://localhost:8080/",
          "height": 260
        },
        "outputId": "0ce2795e-5186-400c-890b-d197fd7b4127"
      },
      "source": [
        "print(Y)"
      ],
      "execution_count": 10,
      "outputs": [
        {
          "output_type": "stream",
          "text": [
            "       L1\n",
            "0     1.0\n",
            "1     1.0\n",
            "2     1.0\n",
            "3     1.0\n",
            "4     1.0\n",
            "...   ...\n",
            "5017  0.0\n",
            "5018  0.0\n",
            "5019  0.0\n",
            "5020  0.0\n",
            "5021  0.0\n",
            "\n",
            "[5022 rows x 1 columns]\n"
          ],
          "name": "stdout"
        }
      ]
    },
    {
      "cell_type": "code",
      "metadata": {
        "id": "XpwNIH6_5d1e",
        "colab_type": "code",
        "colab": {}
      },
      "source": [
        "# Binarize the output\n",
        "y = label_binarize(Y, classes=[0, 1])\n",
        "n_classes = 2"
      ],
      "execution_count": 0,
      "outputs": []
    },
    {
      "cell_type": "code",
      "metadata": {
        "id": "dEFF0vf4ec6K",
        "colab_type": "code",
        "colab": {
          "base_uri": "https://localhost:8080/",
          "height": 139
        },
        "outputId": "caba470b-4942-4958-d816-195806c4ed0b"
      },
      "source": [
        "print(y)"
      ],
      "execution_count": 8,
      "outputs": [
        {
          "output_type": "stream",
          "text": [
            "[[1]\n",
            " [1]\n",
            " [1]\n",
            " ...\n",
            " [0]\n",
            " [0]\n",
            " [0]]\n"
          ],
          "name": "stdout"
        }
      ]
    },
    {
      "cell_type": "code",
      "metadata": {
        "id": "cN7uCcXA5wUy",
        "colab_type": "code",
        "colab": {}
      },
      "source": [
        "# shuffle and split training and test sets\n",
        "X_train, X_test, y_train, y_test = train_test_split(X, y, test_size=0.3,random_state=0)"
      ],
      "execution_count": 0,
      "outputs": []
    },
    {
      "cell_type": "code",
      "metadata": {
        "id": "_L2y4ls550Xn",
        "colab_type": "code",
        "outputId": "563e5e8c-c5de-4917-d0e5-0aebb9f182fd",
        "colab": {
          "base_uri": "https://localhost:8080/",
          "height": 52
        }
      },
      "source": [
        "# Learn to predict each class against the other\n",
        "#kernel='rbf',max_iter=50000, gamma=0.00001, C=1000,probability=True\n",
        "classifier = OneVsRestClassifier(svm.SVC(kernel='rbf',max_iter=-1, gamma='scale', C=1.0,probability=True)) #SVC(kernel='rbf', gamma=0.00001, C=1000,probability=True)\n",
        "classifier.fit(X_train, y_train)\n",
        "y_score = classifier.predict_proba(X_test)#decision_function(X_test)#\n",
        "print('Accuracy of SVM classifier on training set: {:.2f}'\n",
        "     .format(classifier.score(X_train, y_train)))\n",
        "print('Accuracy of SVM classifier on test set: {:.2f}'\n",
        "     .format(classifier.score(X_test, y_test)))\n"
      ],
      "execution_count": 0,
      "outputs": [
        {
          "output_type": "stream",
          "text": [
            "Accuracy of SVM classifier on training set: 0.53\n",
            "Accuracy of SVM classifier on test set: 0.52\n"
          ],
          "name": "stdout"
        }
      ]
    },
    {
      "cell_type": "code",
      "metadata": {
        "id": "KT37yh6Q55gz",
        "colab_type": "code",
        "colab": {}
      },
      "source": [
        "# Compute ROC curve and ROC area for each class\n",
        "fpr = dict()\n",
        "tpr = dict()\n",
        "roc_auc = dict()\n",
        "for i in range(n_classes):\n",
        "    fpr[i], tpr[i], _ = roc_curve(y_test.ravel(), y_score[:,i].ravel())\n",
        "    roc_auc[i] = auc(fpr[i], tpr[i])"
      ],
      "execution_count": 0,
      "outputs": []
    },
    {
      "cell_type": "code",
      "metadata": {
        "id": "0322bKsD582b",
        "colab_type": "code",
        "outputId": "07ed738f-80c0-42a4-a15d-33ff4d3efd0b",
        "colab": {
          "base_uri": "https://localhost:8080/",
          "height": 295
        }
      },
      "source": [
        "# Plot ROC curve\n",
        "plt.figure()\n",
        "\n",
        "for i in range(n_classes):\n",
        "    plt.plot(fpr[i], tpr[i], label='ROC curve of class {0} (area = {1:0.2f})'\n",
        "                                   ''.format(i, roc_auc[i]))\n",
        "\n",
        "plt.plot([0, 1], [0, 1], 'k--')\n",
        "#plt.xlim([0.0, 1.0])\n",
        "#plt.ylim([0.0, 1.05])\n",
        "plt.xlabel('False Positive Rate')\n",
        "plt.ylabel('True Positive Rate')\n",
        "plt.title('Some extension of Receiver operating characteristic to multi-class')\n",
        "plt.legend(loc=\"lower right\")\n",
        "plt.show()"
      ],
      "execution_count": 0,
      "outputs": [
        {
          "output_type": "display_data",
          "data": {
            "image/png": "[encoded data removed]",
            "text/plain": [
              "<Figure size 432x288 with 1 Axes>"
            ]
          },
          "metadata": {
            "tags": []
          }
        }
      ]
    }
  ]
}